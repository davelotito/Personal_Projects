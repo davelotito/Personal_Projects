{
 "cells": [
  {
   "cell_type": "code",
   "execution_count": 1,
   "metadata": {},
   "outputs": [],
   "source": [
    "import pandas as pd\n",
    "import numpy as np\n",
    "import seaborn as sns\n",
    "\n",
    "import matplotlib.pyplot as plt\n",
    "%matplotlib inline"
   ]
  },
  {
   "cell_type": "code",
   "execution_count": 2,
   "metadata": {},
   "outputs": [],
   "source": [
    "# Load Dataset\n",
    "spotify_data = pd.read_csv('/Users/davelotito/Documents/Data/top50.csv',encoding = \"ISO-8859-1\")"
   ]
  },
  {
   "cell_type": "markdown",
   "metadata": {},
   "source": [
    "# Inspect Data"
   ]
  },
  {
   "cell_type": "code",
   "execution_count": 3,
   "metadata": {},
   "outputs": [
    {
     "data": {
      "text/plain": [
       "Index(['Unnamed: 0', 'Track.Name', 'Artist.Name', 'Genre', 'Beats.Per.Minute',\n",
       "       'Energy', 'Danceability', 'Loudness..dB..', 'Liveness', 'Valence.',\n",
       "       'Length.', 'Acousticness..', 'Speechiness.', 'Popularity'],\n",
       "      dtype='object')"
      ]
     },
     "execution_count": 3,
     "metadata": {},
     "output_type": "execute_result"
    }
   ],
   "source": [
    "# Inspect dataset columns \n",
    "spotify_data.columns"
   ]
  },
  {
   "cell_type": "code",
   "execution_count": 4,
   "metadata": {},
   "outputs": [
    {
     "data": {
      "text/html": [
       "<div>\n",
       "<style scoped>\n",
       "    .dataframe tbody tr th:only-of-type {\n",
       "        vertical-align: middle;\n",
       "    }\n",
       "\n",
       "    .dataframe tbody tr th {\n",
       "        vertical-align: top;\n",
       "    }\n",
       "\n",
       "    .dataframe thead th {\n",
       "        text-align: right;\n",
       "    }\n",
       "</style>\n",
       "<table border=\"1\" class=\"dataframe\">\n",
       "  <thead>\n",
       "    <tr style=\"text-align: right;\">\n",
       "      <th></th>\n",
       "      <th>Unnamed: 0</th>\n",
       "      <th>Track.Name</th>\n",
       "      <th>Artist.Name</th>\n",
       "      <th>Genre</th>\n",
       "      <th>Beats.Per.Minute</th>\n",
       "      <th>Energy</th>\n",
       "      <th>Danceability</th>\n",
       "      <th>Loudness..dB..</th>\n",
       "      <th>Liveness</th>\n",
       "      <th>Valence.</th>\n",
       "      <th>Length.</th>\n",
       "      <th>Acousticness..</th>\n",
       "      <th>Speechiness.</th>\n",
       "      <th>Popularity</th>\n",
       "    </tr>\n",
       "  </thead>\n",
       "  <tbody>\n",
       "    <tr>\n",
       "      <th>49</th>\n",
       "      <td>50</td>\n",
       "      <td>Cross Me (feat. Chance the Rapper &amp; PnB Rock)</td>\n",
       "      <td>Ed Sheeran</td>\n",
       "      <td>pop</td>\n",
       "      <td>95</td>\n",
       "      <td>79</td>\n",
       "      <td>75</td>\n",
       "      <td>-6</td>\n",
       "      <td>7</td>\n",
       "      <td>61</td>\n",
       "      <td>206</td>\n",
       "      <td>21</td>\n",
       "      <td>12</td>\n",
       "      <td>82</td>\n",
       "    </tr>\n",
       "    <tr>\n",
       "      <th>5</th>\n",
       "      <td>6</td>\n",
       "      <td>I Don't Care (with Justin Bieber)</td>\n",
       "      <td>Ed Sheeran</td>\n",
       "      <td>pop</td>\n",
       "      <td>102</td>\n",
       "      <td>68</td>\n",
       "      <td>80</td>\n",
       "      <td>-5</td>\n",
       "      <td>9</td>\n",
       "      <td>84</td>\n",
       "      <td>220</td>\n",
       "      <td>9</td>\n",
       "      <td>4</td>\n",
       "      <td>84</td>\n",
       "    </tr>\n",
       "    <tr>\n",
       "      <th>23</th>\n",
       "      <td>24</td>\n",
       "      <td>Soltera - Remix</td>\n",
       "      <td>Lunay</td>\n",
       "      <td>latin</td>\n",
       "      <td>92</td>\n",
       "      <td>78</td>\n",
       "      <td>80</td>\n",
       "      <td>-4</td>\n",
       "      <td>44</td>\n",
       "      <td>80</td>\n",
       "      <td>266</td>\n",
       "      <td>36</td>\n",
       "      <td>4</td>\n",
       "      <td>91</td>\n",
       "    </tr>\n",
       "    <tr>\n",
       "      <th>1</th>\n",
       "      <td>2</td>\n",
       "      <td>China</td>\n",
       "      <td>Anuel AA</td>\n",
       "      <td>reggaeton flow</td>\n",
       "      <td>105</td>\n",
       "      <td>81</td>\n",
       "      <td>79</td>\n",
       "      <td>-4</td>\n",
       "      <td>8</td>\n",
       "      <td>61</td>\n",
       "      <td>302</td>\n",
       "      <td>8</td>\n",
       "      <td>9</td>\n",
       "      <td>92</td>\n",
       "    </tr>\n",
       "    <tr>\n",
       "      <th>32</th>\n",
       "      <td>33</td>\n",
       "      <td>0.958333333333333</td>\n",
       "      <td>Maluma</td>\n",
       "      <td>reggaeton</td>\n",
       "      <td>96</td>\n",
       "      <td>71</td>\n",
       "      <td>78</td>\n",
       "      <td>-5</td>\n",
       "      <td>9</td>\n",
       "      <td>68</td>\n",
       "      <td>176</td>\n",
       "      <td>22</td>\n",
       "      <td>28</td>\n",
       "      <td>89</td>\n",
       "    </tr>\n",
       "    <tr>\n",
       "      <th>6</th>\n",
       "      <td>7</td>\n",
       "      <td>Ransom</td>\n",
       "      <td>Lil Tecca</td>\n",
       "      <td>trap music</td>\n",
       "      <td>180</td>\n",
       "      <td>64</td>\n",
       "      <td>75</td>\n",
       "      <td>-6</td>\n",
       "      <td>7</td>\n",
       "      <td>23</td>\n",
       "      <td>131</td>\n",
       "      <td>2</td>\n",
       "      <td>29</td>\n",
       "      <td>92</td>\n",
       "    </tr>\n",
       "    <tr>\n",
       "      <th>13</th>\n",
       "      <td>14</td>\n",
       "      <td>Otro Trago - Remix</td>\n",
       "      <td>Sech</td>\n",
       "      <td>panamanian pop</td>\n",
       "      <td>176</td>\n",
       "      <td>79</td>\n",
       "      <td>73</td>\n",
       "      <td>-2</td>\n",
       "      <td>6</td>\n",
       "      <td>76</td>\n",
       "      <td>288</td>\n",
       "      <td>7</td>\n",
       "      <td>20</td>\n",
       "      <td>87</td>\n",
       "    </tr>\n",
       "    <tr>\n",
       "      <th>34</th>\n",
       "      <td>35</td>\n",
       "      <td>Never Really Over</td>\n",
       "      <td>Katy Perry</td>\n",
       "      <td>dance pop</td>\n",
       "      <td>100</td>\n",
       "      <td>88</td>\n",
       "      <td>77</td>\n",
       "      <td>-5</td>\n",
       "      <td>32</td>\n",
       "      <td>39</td>\n",
       "      <td>224</td>\n",
       "      <td>19</td>\n",
       "      <td>6</td>\n",
       "      <td>89</td>\n",
       "    </tr>\n",
       "    <tr>\n",
       "      <th>28</th>\n",
       "      <td>29</td>\n",
       "      <td>Con Calma</td>\n",
       "      <td>Daddy Yankee</td>\n",
       "      <td>latin</td>\n",
       "      <td>94</td>\n",
       "      <td>86</td>\n",
       "      <td>74</td>\n",
       "      <td>-3</td>\n",
       "      <td>6</td>\n",
       "      <td>66</td>\n",
       "      <td>193</td>\n",
       "      <td>11</td>\n",
       "      <td>6</td>\n",
       "      <td>91</td>\n",
       "    </tr>\n",
       "    <tr>\n",
       "      <th>24</th>\n",
       "      <td>25</td>\n",
       "      <td>bad guy (with Justin Bieber)</td>\n",
       "      <td>Billie Eilish</td>\n",
       "      <td>electropop</td>\n",
       "      <td>135</td>\n",
       "      <td>45</td>\n",
       "      <td>67</td>\n",
       "      <td>-11</td>\n",
       "      <td>12</td>\n",
       "      <td>68</td>\n",
       "      <td>195</td>\n",
       "      <td>25</td>\n",
       "      <td>30</td>\n",
       "      <td>89</td>\n",
       "    </tr>\n",
       "  </tbody>\n",
       "</table>\n",
       "</div>"
      ],
      "text/plain": [
       "    Unnamed: 0                                     Track.Name    Artist.Name  \\\n",
       "49          50  Cross Me (feat. Chance the Rapper & PnB Rock)     Ed Sheeran   \n",
       "5            6              I Don't Care (with Justin Bieber)     Ed Sheeran   \n",
       "23          24                                Soltera - Remix          Lunay   \n",
       "1            2                                          China       Anuel AA   \n",
       "32          33                              0.958333333333333         Maluma   \n",
       "6            7                                         Ransom      Lil Tecca   \n",
       "13          14                             Otro Trago - Remix           Sech   \n",
       "34          35                              Never Really Over     Katy Perry   \n",
       "28          29                                      Con Calma   Daddy Yankee   \n",
       "24          25                   bad guy (with Justin Bieber)  Billie Eilish   \n",
       "\n",
       "             Genre  Beats.Per.Minute  Energy  Danceability  Loudness..dB..  \\\n",
       "49             pop                95      79            75              -6   \n",
       "5              pop               102      68            80              -5   \n",
       "23           latin                92      78            80              -4   \n",
       "1   reggaeton flow               105      81            79              -4   \n",
       "32       reggaeton                96      71            78              -5   \n",
       "6       trap music               180      64            75              -6   \n",
       "13  panamanian pop               176      79            73              -2   \n",
       "34       dance pop               100      88            77              -5   \n",
       "28           latin                94      86            74              -3   \n",
       "24      electropop               135      45            67             -11   \n",
       "\n",
       "    Liveness  Valence.  Length.  Acousticness..  Speechiness.  Popularity  \n",
       "49         7        61      206              21            12          82  \n",
       "5          9        84      220               9             4          84  \n",
       "23        44        80      266              36             4          91  \n",
       "1          8        61      302               8             9          92  \n",
       "32         9        68      176              22            28          89  \n",
       "6          7        23      131               2            29          92  \n",
       "13         6        76      288               7            20          87  \n",
       "34        32        39      224              19             6          89  \n",
       "28         6        66      193              11             6          91  \n",
       "24        12        68      195              25            30          89  "
      ]
     },
     "execution_count": 4,
     "metadata": {},
     "output_type": "execute_result"
    }
   ],
   "source": [
    "spotify_data.sample(10)"
   ]
  },
  {
   "cell_type": "code",
   "execution_count": 5,
   "metadata": {},
   "outputs": [
    {
     "data": {
      "text/plain": [
       "Unnamed: 0           int64\n",
       "Track.Name          object\n",
       "Artist.Name         object\n",
       "Genre               object\n",
       "Beats.Per.Minute     int64\n",
       "Energy               int64\n",
       "Danceability         int64\n",
       "Loudness..dB..       int64\n",
       "Liveness             int64\n",
       "Valence.             int64\n",
       "Length.              int64\n",
       "Acousticness..       int64\n",
       "Speechiness.         int64\n",
       "Popularity           int64\n",
       "dtype: object"
      ]
     },
     "execution_count": 5,
     "metadata": {},
     "output_type": "execute_result"
    }
   ],
   "source": [
    "spotify_data.dtypes"
   ]
  },
  {
   "cell_type": "markdown",
   "metadata": {},
   "source": [
    "# Clean Data & Columns"
   ]
  },
  {
   "cell_type": "code",
   "execution_count": 6,
   "metadata": {},
   "outputs": [],
   "source": [
    "# Drop unwanted columns\n",
    "spotify_data.drop(columns='Unnamed: 0', inplace=True)"
   ]
  },
  {
   "cell_type": "code",
   "execution_count": 17,
   "metadata": {},
   "outputs": [],
   "source": [
    "# Clean up column names a bit & replace periods with underscores\n",
    "spotify_data.columns = spotify_data.columns.str.replace('.', '_', regex=False)\n",
    "# CLean up column names, removing underscores and standardizing them\n",
    "spotify_data.drop(columns=['Length_', 'Valence_', 'Loudness__dB__'], inplace=True)\n",
    "spotify_data.drop(columns=['Speechiness_', 'Acousticness__'], inplace=True)"
   ]
  },
  {
   "cell_type": "code",
   "execution_count": 49,
   "metadata": {},
   "outputs": [
    {
     "data": {
      "text/html": [
       "<div>\n",
       "<style scoped>\n",
       "    .dataframe tbody tr th:only-of-type {\n",
       "        vertical-align: middle;\n",
       "    }\n",
       "\n",
       "    .dataframe tbody tr th {\n",
       "        vertical-align: top;\n",
       "    }\n",
       "\n",
       "    .dataframe thead th {\n",
       "        text-align: right;\n",
       "    }\n",
       "</style>\n",
       "<table border=\"1\" class=\"dataframe\">\n",
       "  <thead>\n",
       "    <tr style=\"text-align: right;\">\n",
       "      <th></th>\n",
       "      <th>Track_Name</th>\n",
       "      <th>Artist_Name</th>\n",
       "      <th>Genre</th>\n",
       "      <th>Beats_Per_Minute</th>\n",
       "      <th>Energy</th>\n",
       "      <th>Danceability</th>\n",
       "      <th>Liveness</th>\n",
       "      <th>Popularity</th>\n",
       "      <th>Loudness_dB</th>\n",
       "      <th>Speechiness</th>\n",
       "      <th>Length</th>\n",
       "      <th>Valence</th>\n",
       "    </tr>\n",
       "  </thead>\n",
       "  <tbody>\n",
       "    <tr>\n",
       "      <th>40</th>\n",
       "      <td>Higher Love</td>\n",
       "      <td>Kygo</td>\n",
       "      <td>edm</td>\n",
       "      <td>104</td>\n",
       "      <td>68</td>\n",
       "      <td>69</td>\n",
       "      <td>10</td>\n",
       "      <td>88</td>\n",
       "      <td>-7</td>\n",
       "      <td>3</td>\n",
       "      <td>228</td>\n",
       "      <td>40</td>\n",
       "    </tr>\n",
       "    <tr>\n",
       "      <th>15</th>\n",
       "      <td>No Guidance (feat. Drake)</td>\n",
       "      <td>Chris Brown</td>\n",
       "      <td>dance pop</td>\n",
       "      <td>93</td>\n",
       "      <td>45</td>\n",
       "      <td>70</td>\n",
       "      <td>16</td>\n",
       "      <td>82</td>\n",
       "      <td>-7</td>\n",
       "      <td>15</td>\n",
       "      <td>261</td>\n",
       "      <td>14</td>\n",
       "    </tr>\n",
       "    <tr>\n",
       "      <th>43</th>\n",
       "      <td>Talk</td>\n",
       "      <td>Khalid</td>\n",
       "      <td>pop</td>\n",
       "      <td>136</td>\n",
       "      <td>40</td>\n",
       "      <td>90</td>\n",
       "      <td>6</td>\n",
       "      <td>84</td>\n",
       "      <td>-9</td>\n",
       "      <td>13</td>\n",
       "      <td>198</td>\n",
       "      <td>35</td>\n",
       "    </tr>\n",
       "  </tbody>\n",
       "</table>\n",
       "</div>"
      ],
      "text/plain": [
       "                   Track_Name  Artist_Name      Genre  Beats_Per_Minute  \\\n",
       "40                Higher Love         Kygo        edm               104   \n",
       "15  No Guidance (feat. Drake)  Chris Brown  dance pop                93   \n",
       "43                       Talk       Khalid        pop               136   \n",
       "\n",
       "    Energy  Danceability  Liveness  Popularity  Loudness_dB  Speechiness  \\\n",
       "40      68            69        10          88           -7            3   \n",
       "15      45            70        16          82           -7           15   \n",
       "43      40            90         6          84           -9           13   \n",
       "\n",
       "    Length  Valence  \n",
       "40     228       40  \n",
       "15     261       14  \n",
       "43     198       35  "
      ]
     },
     "execution_count": 49,
     "metadata": {},
     "output_type": "execute_result"
    }
   ],
   "source": [
    "spotify_data.sample(3)"
   ]
  },
  {
   "cell_type": "code",
   "execution_count": 55,
   "metadata": {},
   "outputs": [
    {
     "data": {
      "text/plain": [
       "array(['Señorita', 'China', 'boyfriend (with Social House)',\n",
       "       'Beautiful People (feat. Khalid)', 'Goodbyes (Feat. Young Thug)',\n",
       "       \"I Don't Care (with Justin Bieber)\", 'Ransom', 'How Do You Sleep?',\n",
       "       'Old Town Road - Remix', 'bad guy', 'Callaita',\n",
       "       'Loco Contigo (feat. J. Balvin & Tyga)', 'Someone You Loved',\n",
       "       'Otro Trago - Remix', 'Money In The Grave (Drake ft. Rick Ross)',\n",
       "       'No Guidance (feat. Drake)', 'LA CANCIÓN',\n",
       "       'Sunflower - Spider-Man: Into the Spider-Verse', 'Lalala',\n",
       "       'Truth Hurts', 'Piece Of Your Heart', 'Panini',\n",
       "       'No Me Conoce - Remix', 'Soltera - Remix',\n",
       "       'bad guy (with Justin Bieber)', \"If I Can't Have You\",\n",
       "       'Dance Monkey', \"It's You\", 'Con Calma', 'QUE PRETENDES',\n",
       "       'Takeaway', '7 rings', '0.958333333333333',\n",
       "       'The London (feat. J. Cole & Travis Scott)', 'Never Really Over',\n",
       "       'Summer Days (feat. Macklemore & Patrick Stump of Fall Out Boy)',\n",
       "       'Otro Trago', 'Antisocial (with Travis Scott)', 'Sucker',\n",
       "       \"fuck, i'm lonely (with Anne-Marie) - from \\x9313 Reasons Why: Season 3\\x94\",\n",
       "       'Higher Love', 'You Need To Calm Down', 'Shallow', 'Talk',\n",
       "       'Con Altura', 'One Thing Right', 'Te Robaré', 'Happier',\n",
       "       'Call You Mine', 'Cross Me (feat. Chance the Rapper & PnB Rock)'],\n",
       "      dtype=object)"
      ]
     },
     "execution_count": 55,
     "metadata": {},
     "output_type": "execute_result"
    }
   ],
   "source": [
    "# Check for anomalies in data\n",
    "spotify_data['Track_Name'].unique()"
   ]
  },
  {
   "cell_type": "code",
   "execution_count": 75,
   "metadata": {},
   "outputs": [],
   "source": [
    "# Isolate the anomolie\n",
    "anomolie = spotify_data[spotify_data['Track_Name'] =='0.958333333333333']"
   ]
  },
  {
   "cell_type": "code",
   "execution_count": 80,
   "metadata": {},
   "outputs": [
    {
     "name": "stderr",
     "output_type": "stream",
     "text": [
      "/var/folders/hp/3dhbxb5j0vzgq_s64y3bq0mw0000gn/T/ipykernel_5632/2353109319.py:1: FutureWarning: The default value of regex will change from True to False in a future version.\n",
      "  anomolie['Track_Name'] = anomolie['Track_Name'].str.replace('0.958333333333333', 'HP')\n",
      "/var/folders/hp/3dhbxb5j0vzgq_s64y3bq0mw0000gn/T/ipykernel_5632/2353109319.py:1: SettingWithCopyWarning: \n",
      "A value is trying to be set on a copy of a slice from a DataFrame.\n",
      "Try using .loc[row_indexer,col_indexer] = value instead\n",
      "\n",
      "See the caveats in the documentation: https://pandas.pydata.org/pandas-docs/stable/user_guide/indexing.html#returning-a-view-versus-a-copy\n",
      "  anomolie['Track_Name'] = anomolie['Track_Name'].str.replace('0.958333333333333', 'HP')\n"
     ]
    }
   ],
   "source": [
    "# Treat the anomolie with another Track Name\n",
    "anomolie['Track_Name'] = anomolie['Track_Name'].str.replace('0.958333333333333', 'HP')"
   ]
  },
  {
   "cell_type": "code",
   "execution_count": 85,
   "metadata": {},
   "outputs": [
    {
     "name": "stderr",
     "output_type": "stream",
     "text": [
      "/var/folders/hp/3dhbxb5j0vzgq_s64y3bq0mw0000gn/T/ipykernel_5632/3370527999.py:1: FutureWarning: The frame.append method is deprecated and will be removed from pandas in a future version. Use pandas.concat instead.\n",
      "  spotify_data = anomolie.append(spotify_data, ignore_index=True)\n"
     ]
    }
   ],
   "source": [
    "# Append results back to original dataset\n",
    "spotify_data = anomolie.append(spotify_data, ignore_index=True)\n"
   ]
  },
  {
   "cell_type": "code",
   "execution_count": null,
   "metadata": {},
   "outputs": [],
   "source": []
  },
  {
   "cell_type": "code",
   "execution_count": 194,
   "metadata": {},
   "outputs": [],
   "source": [
    "spotify_data.sort_values(by='Artist.Name',ascending=True)\n",
    "spotify_data.drop(columns=['Loudness..dB..'],inplace=True)"
   ]
  },
  {
   "cell_type": "code",
   "execution_count": 195,
   "metadata": {},
   "outputs": [],
   "source": [
    "spotify_data.head(51)\n",
    "spotify_data.sort_values(by=['Track.Name','Artist.Name','Genre'],ascending=True,inplace=True)"
   ]
  },
  {
   "cell_type": "code",
   "execution_count": 197,
   "metadata": {},
   "outputs": [
    {
     "data": {
      "image/png": "[encoded data removed]",
      "text/plain": [
       "<Figure size 432x288 with 1 Axes>"
      ]
     },
     "metadata": {
      "needs_background": "light"
     },
     "output_type": "display_data"
    }
   ],
   "source": [
    "spotify_data.plot(kind='scatter',x='Popularity',y='Length.',color='red')\n",
    "plt.show()"
   ]
  },
  {
   "cell_type": "code",
   "execution_count": 199,
   "metadata": {},
   "outputs": [
    {
     "data": {
      "text/html": [
       "<div>\n",
       "<style scoped>\n",
       "    .dataframe tbody tr th:only-of-type {\n",
       "        vertical-align: middle;\n",
       "    }\n",
       "\n",
       "    .dataframe tbody tr th {\n",
       "        vertical-align: top;\n",
       "    }\n",
       "\n",
       "    .dataframe thead th {\n",
       "        text-align: right;\n",
       "    }\n",
       "</style>\n",
       "<table border=\"1\" class=\"dataframe\">\n",
       "  <thead>\n",
       "    <tr style=\"text-align: right;\">\n",
       "      <th></th>\n",
       "      <th>Beats.Per.Minute</th>\n",
       "      <th>Genre</th>\n",
       "    </tr>\n",
       "  </thead>\n",
       "  <tbody>\n",
       "    <tr>\n",
       "      <td>32</td>\n",
       "      <td>96</td>\n",
       "      <td>reggaeton</td>\n",
       "    </tr>\n",
       "    <tr>\n",
       "      <td>11</td>\n",
       "      <td>96</td>\n",
       "      <td>dance pop</td>\n",
       "    </tr>\n",
       "  </tbody>\n",
       "</table>\n",
       "</div>"
      ],
      "text/plain": [
       "    Beats.Per.Minute      Genre\n",
       "32                96  reggaeton\n",
       "11                96  dance pop"
      ]
     },
     "execution_count": 199,
     "metadata": {},
     "output_type": "execute_result"
    }
   ],
   "source": [
    "spotify_data.loc[(spotify_data['Beats.Per.Minute'] >= 75) & (spotify_data['Energy'] == 71 ), ['Beats.Per.Minute', 'Genre']]"
   ]
  },
  {
   "cell_type": "code",
   "execution_count": null,
   "metadata": {},
   "outputs": [],
   "source": []
  },
  {
   "cell_type": "code",
   "execution_count": null,
   "metadata": {},
   "outputs": [],
   "source": []
  },
  {
   "cell_type": "code",
   "execution_count": null,
   "metadata": {},
   "outputs": [],
   "source": []
  }
 ],
 "metadata": {
  "kernelspec": {
   "display_name": "Python 3.8.9 64-bit",
   "language": "python",
   "name": "python3"
  },
  "language_info": {
   "codemirror_mode": {
    "name": "ipython",
    "version": 3
   },
   "file_extension": ".py",
   "mimetype": "text/x-python",
   "name": "python",
   "nbconvert_exporter": "python",
   "pygments_lexer": "ipython3",
   "version": "3.8.9"
  },
  "vscode": {
   "interpreter": {
    "hash": "5edc29c2ed010d6458d71a83433b383a96a8cbd3efe8531bc90c4b8a5b8bcec9"
   }
  }
 },
 "nbformat": 4,
 "nbformat_minor": 2
}
