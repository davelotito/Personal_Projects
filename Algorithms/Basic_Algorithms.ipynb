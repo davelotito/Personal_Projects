{
 "cells": [
  {
   "cell_type": "markdown",
   "metadata": {},
   "source": [
    "# Sorting Algorithm --------------------------------"
   ]
  },
  {
   "cell_type": "code",
   "execution_count": 2,
   "metadata": {},
   "outputs": [],
   "source": [
    "# Packages\n",
    "from typing import List"
   ]
  },
  {
   "cell_type": "code",
   "execution_count": 3,
   "metadata": {},
   "outputs": [],
   "source": [
    "\n",
    "# BUBBLE SORT ALGO \n",
    "\n",
    "########################################################################################################################\n",
    "# Bubble sort is a simple but inefficient sorting algorithm, with a time complexity of O(n^2) in the worst case. \n",
    "# There are many other sorting algorithms that are faster and more efficient, such as quicksort, mergesort, and heapsort.\n",
    "########################################################################################################################\n",
    "\n",
    "def bubble_sort(arr: List[int]) -> List[int]:\n",
    "    n = len(arr)\n",
    "\n",
    "    # iterate through the list, comparing adjacent elements and swapping them if they are in the wrong order\n",
    "    for i in range(n-1):\n",
    "        for j in range(n-i-1):\n",
    "            if arr[j] > arr[j+1]:\n",
    "                arr[j], arr[j+1] = arr[j+1], arr[j]\n",
    "\n",
    "    return arr"
   ]
  },
  {
   "cell_type": "code",
   "execution_count": 4,
   "metadata": {},
   "outputs": [
    {
     "name": "stdout",
     "output_type": "stream",
     "text": [
      "[1, 2, 3, 4, 5]\n"
     ]
    }
   ],
   "source": [
    "arr = [3, 2, 1, 4, 5]\n",
    "sorted_arr = bubble_sort(arr)\n",
    "print(sorted_arr)\n"
   ]
  },
  {
   "cell_type": "code",
   "execution_count": 5,
   "metadata": {},
   "outputs": [],
   "source": [
    "# QUICKSORT ALGO\n",
    "def quicksort(arr: List[int]) -> List[int]:\n",
    "    if len(arr) <= 1:\n",
    "        return arr\n",
    "\n",
    "    pivot = arr[0]\n",
    "    left = [x for x in arr[1:] if x < pivot]\n",
    "    right = [x for x in arr[1:] if x >= pivot]\n",
    "\n",
    "    return quicksort(left) + [pivot] + quicksort(right)"
   ]
  },
  {
   "cell_type": "code",
   "execution_count": 7,
   "metadata": {},
   "outputs": [
    {
     "name": "stdout",
     "output_type": "stream",
     "text": [
      "[0, 1, 2, 3, 4, 4, 6, 7, 8, 9, 10, 12, 100, 200, 300, 400, 500, 600, 700, 800, 900, 1200000, 1400000, 9000000000]\n"
     ]
    }
   ],
   "source": [
    "arr = [3, 2, 100, 4,0, 200, 300, 400, 500, 600, 700, 800, 900, 1200000, 1400000, 12, 1, 4, 6, 7, 8, 9, 10, 9000000000]\n",
    "sorted_arr = quicksort(arr)\n",
    "print(sorted_arr)"
   ]
  },
  {
   "cell_type": "code",
   "execution_count": null,
   "metadata": {},
   "outputs": [],
   "source": []
  }
 ],
 "metadata": {
  "kernelspec": {
   "display_name": "base",
   "language": "python",
   "name": "python3"
  },
  "language_info": {
   "codemirror_mode": {
    "name": "ipython",
    "version": 3
   },
   "file_extension": ".py",
   "mimetype": "text/x-python",
   "name": "python",
   "nbconvert_exporter": "python",
   "pygments_lexer": "ipython3",
   "version": "3.9.13"
  },
  "orig_nbformat": 4,
  "vscode": {
   "interpreter": {
    "hash": "8e310bae35a138f206f4dbe6db217ccd072733eb5931a39d6400da324649d473"
   }
  }
 },
 "nbformat": 4,
 "nbformat_minor": 2
}
