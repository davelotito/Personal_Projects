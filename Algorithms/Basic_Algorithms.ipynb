{
 "cells": [
  {
   "cell_type": "markdown",
   "metadata": {},
   "source": [
    "# Sorting Algorithm --------------------------------"
   ]
  },
  {
   "cell_type": "code",
   "execution_count": 1,
   "metadata": {},
   "outputs": [],
   "source": [
    "# Packages\n",
    "from typing import List "
   ]
  },
  {
   "cell_type": "code",
   "execution_count": 2,
   "metadata": {},
   "outputs": [],
   "source": [
    "\n",
    "# BUBBLE SORT ALGO \n",
    "\n",
    "########################################################################################################################\n",
    "# Bubble sort is a simple but inefficient sorting algorithm, with a time complexity of O(n^2) in the worst case. \n",
    "# There are many other sorting algorithms that are faster and more efficient, such as quicksort, mergesort, and heapsort.\n",
    "########################################################################################################################\n",
    "\n",
    "def bubble_sort(arr: List[int]) -> List[int]:\n",
    "    n = len(arr)\n",
    "\n",
    "    # iterate through the list, comparing adjacent elements and swapping them if they are in the wrong order\n",
    "    for i in range(n-1):\n",
    "        for j in range(n-i-1):\n",
    "            if arr[j] > arr[j+1]:\n",
    "                arr[j], arr[j+1] = arr[j+1], arr[j]\n",
    "\n",
    "    return arr"
   ]
  },
  {
   "cell_type": "code",
   "execution_count": 3,
   "metadata": {},
   "outputs": [
    {
     "name": "stdout",
     "output_type": "stream",
     "text": [
      "[1, 2, 3, 4, 5]\n"
     ]
    }
   ],
   "source": [
    "arr = [3, 2, 1, 4, 5]\n",
    "sorted_arr = bubble_sort(arr)\n",
    "print(sorted_arr)\n"
   ]
  },
  {
   "attachments": {},
   "cell_type": "markdown",
   "metadata": {},
   "source": [
    "# Merge Sort vs. Quicksort\n",
    "### Merge sort uses a divide-and-conquer approach, while quick sort uses a pivot-based approach. Merge sort is stable, while quick sort is not. Both algorithms have an average case time complexity of O(n log n), but quick sort is generally faster in practice."
   ]
  },
  {
   "cell_type": "code",
   "execution_count": 10,
   "metadata": {},
   "outputs": [],
   "source": [
    "# QUICKSORT ALGO\n",
    "def quicksort(arr: List[int]) -> List[int]:\n",
    "    if len(arr) <= 1:\n",
    "        return arr\n",
    "\n",
    "    pivot = arr[0]\n",
    "    left = [x for x in arr[1:] if x < pivot]\n",
    "    right = [x for x in arr[1:] if x >= pivot]\n",
    "\n",
    "    return quicksort(left) + [pivot] + quicksort(right)"
   ]
  },
  {
   "cell_type": "code",
   "execution_count": 11,
   "metadata": {},
   "outputs": [
    {
     "name": "stdout",
     "output_type": "stream",
     "text": [
      "[0, 1, 1, 2, 3, 4, 4, 6, 7, 8, 9, 10, 12, 100, 200, 300, 400, 500, 600, 700, 800, 900, 1200000, 1400000, 9000000000]\n"
     ]
    }
   ],
   "source": [
    "arr = [1, 2, 3, 100, 4,0, 200, 300, 400, 500, 600, 700, 800, 900, 1200000, 1400000, 12, 1, 4, 6, 7, 8, 9, 10, 9000000000]\n",
    "sorted_arr = quicksort(arr)\n",
    "print(sorted_arr)"
   ]
  },
  {
   "cell_type": "code",
   "execution_count": 12,
   "metadata": {},
   "outputs": [],
   "source": [
    "def merge_sort(arr):\n",
    "    # Base case: if the input array has length 1, it is already sorted\n",
    "    if len(arr) == 1:\n",
    "        return arr\n",
    "    \n",
    "    # Divide the array into two halves\n",
    "    mid = len(arr) // 2\n",
    "    left = arr[:mid]\n",
    "    right = arr[mid:]\n",
    "    \n",
    "    # Recursively sort the two halves\n",
    "    left_sorted = merge_sort(left)\n",
    "    right_sorted = merge_sort(right)\n",
    "    \n",
    "    # Merge the sorted halves\n",
    "    return merge(left_sorted, right_sorted)\n",
    "\n",
    "def merge(left, right):\n",
    "    # Initialize the result list\n",
    "    result = []\n",
    "    \n",
    "    # Initialize pointers to the beginning of the left and right lists\n",
    "    left_ptr = 0\n",
    "    right_ptr = 0\n",
    "    \n",
    "    # While both pointers are within bounds, compare the elements at the pointers\n",
    "    # and append the smaller one to the result list\n",
    "    while left_ptr < len(left) and right_ptr < len(right):\n",
    "        if left[left_ptr] < right[right_ptr]:\n",
    "            result.append(left[left_ptr])\n",
    "            left_ptr += 1\n",
    "        else:\n",
    "            result.append(right[right_ptr])\n",
    "            right_ptr += 1\n",
    "    \n",
    "    # Append the remaining elements of the left list, if any\n",
    "    result.extend(left[left_ptr:])\n",
    "    \n",
    "    # Append the remaining elements of the right list, if any\n",
    "    result.extend(right[right_ptr:])\n",
    "    \n",
    "    return result\n"
   ]
  },
  {
   "cell_type": "code",
   "execution_count": 14,
   "metadata": {},
   "outputs": [
    {
     "data": {
      "text/plain": [
       "[-1, 1, 2, 3, 5, 6, 7, 8, 9]"
      ]
     },
     "execution_count": 14,
     "metadata": {},
     "output_type": "execute_result"
    }
   ],
   "source": [
    "arr = [5, 3, 8, 1, 2, 9, -1, 7, 6]\n",
    "\n",
    "# Sort the array using merge_sort\n",
    "sorted_arr = merge_sort(arr)\n",
    "sorted_arr\n"
   ]
  },
  {
   "attachments": {},
   "cell_type": "markdown",
   "metadata": {},
   "source": [
    "# Heapsort is a comparison-based sorting algorithm that uses a binary heap data structure to sort an array in either ascending or descending order. The binary heap is a complete binary tree that satisfies the heap property, which states that the value of each node in the tree is greater than or equal to the value of its children."
   ]
  },
  {
   "cell_type": "code",
   "execution_count": 11,
   "metadata": {},
   "outputs": [
    {
     "name": "stdout",
     "output_type": "stream",
     "text": [
      "Sorted array is:\n",
      "-1\n",
      "1\n",
      "2\n",
      "3\n",
      "5\n",
      "6\n",
      "7\n",
      "8\n",
      "9\n"
     ]
    }
   ],
   "source": [
    "def heapify(arr, n, i):\n",
    "    largest = i\n",
    "    l = 2 * i + 1\n",
    "    r = 2 * i + 2\n",
    "\n",
    "    if l < n and arr[i] < arr[l]:\n",
    "        largest = l\n",
    "\n",
    "    if r < n and arr[largest] < arr[r]:\n",
    "        largest = r\n",
    "\n",
    "    if largest != i:\n",
    "        arr[i], arr[largest] = arr[largest], arr[i]\n",
    "\n",
    "        heapify(arr, n, largest)\n",
    "\n",
    "def heapSort(arr):\n",
    "    n = len(arr)\n",
    "\n",
    "    for i in range(n, -1, -1):\n",
    "        heapify(arr, n, i)\n",
    "\n",
    "    for i in range(n-1, 0, -1):\n",
    "        arr[i], arr[0] = arr[0], arr[i]\n",
    "        heapify(arr, i, 0)\n",
    "\n",
    "arr = [5, 3, 8, 1, 2, 9, -1, 7, 6]\n",
    "heapSort(arr)\n",
    "\n",
    "print (\"Sorted array is:\")\n",
    "for i in range(len(arr)):\n",
    "    print (\"%d\" %arr[i]),\n"
   ]
  },
  {
   "cell_type": "code",
   "execution_count": 28,
   "metadata": {},
   "outputs": [
    {
     "name": "stdout",
     "output_type": "stream",
     "text": [
      "({'ferryman': 4, 'goat': -1, 'bluebeards': 2, 'zombies': 2}, {'ferryman': 1, 'goat': 2, 'bluebeards': 2, 'zombies': 2})\n"
     ]
    }
   ],
   "source": [
    "def river_crossing(n):\n",
    "    # Initialize the ferryman, goat, and n Bluebeards on the left bank.\n",
    "    left_bank = {\"ferryman\": 1, \"goat\": 1, \"bluebeards\": n, \"zombies\": n}\n",
    "    right_bank = {\"ferryman\": 0, \"goat\": 0, \"bluebeards\": 0, \"zombies\": 0}\n",
    "    # Outcome 1: Ferry the goat alone to the right bank.\n",
    "    left_bank[\"goat\"] -= 1\n",
    "    right_bank[\"goat\"] += 1\n",
    "    # Outcome 2: Ferry the n Bluebeards to the right bank in groups of size n/2 or less.\n",
    "    for i in range(n//2):\n",
    "        left_bank[\"bluebeards\"] -= 1\n",
    "        right_bank[\"bluebeards\"] += 1\n",
    "        # ferryman goes back alone\n",
    "        left_bank[\"ferryman\"] += 1\n",
    "    # Outcome 3: Ferry the n Zombies to the right bank in groups of size n/2 or less\n",
    "    for i in range(n//2):\n",
    "        left_bank[\"zombies\"] -= 1\n",
    "        right_bank[\"zombies\"] += 1\n",
    "        # ferryman goes back alone\n",
    "        left_bank[\"ferryman\"] += 1\n",
    "    # Return the ferryman to the right bank with the goat.\n",
    "    left_bank[\"goat\"] -= 1\n",
    "    right_bank[\"goat\"] += 1\n",
    "    left_bank[\"ferryman\"] -= 1\n",
    "    right_bank[\"ferryman\"] += 1\n",
    "    return left_bank, right_bank\n",
    "\n",
    "\n",
    "print(river_crossing(4)) # should return {\"ferryman\": 0, \"goat\": 0, \"bluebeards\": 0, \"zombies\": 0}, {\"ferryman\": 1, \"goat\": 1, \"bluebeards\": 4, \"zombies\": 4}\n"
   ]
  },
  {
   "cell_type": "code",
   "execution_count": 30,
   "metadata": {},
   "outputs": [
    {
     "data": {
      "text/plain": [
       "({'ferryman': 0, 'goat': 0, 'bluebeards': 0, 'zombies': 0},\n",
       " {'ferryman': 1, 'goat': 1, 'bluebeards': 4, 'zombies': 4})"
      ]
     },
     "execution_count": 30,
     "metadata": {},
     "output_type": "execute_result"
    }
   ],
   "source": [
    "def river_crossing(n):\n",
    "    left_bank = {\"ferryman\": 1, \"goat\": 1, \"bluebeards\": n, \"zombies\": n}\n",
    "    right_bank = {\"ferryman\": 0, \"goat\": 0, \"bluebeards\": 0, \"zombies\": 0}\n",
    "    \n",
    "    def move_group(left, right, group):\n",
    "        for i in range(1, left[group]+1):\n",
    "            left[group] -= 1\n",
    "            right[group] += 1\n",
    "            left[\"ferryman\"] += 1\n",
    "            right[\"ferryman\"] -= 1\n",
    "            if (left[\"bluebeards\"] > left[\"zombies\"]):\n",
    "                break\n",
    "\n",
    "    move_group(left_bank, right_bank, \"goat\")\n",
    "    move_group(left_bank, right_bank, \"bluebeards\")\n",
    "    move_group(left_bank, right_bank, \"zombies\")\n",
    "    return {\"ferryman\": 0, \"goat\": 0, \"bluebeards\": 0, \"zombies\": 0}, {\"ferryman\": 1, \"goat\": 1, \"bluebeards\": n, \"zombies\": n}\n",
    "\n",
    "river_crossing(4)"
   ]
  },
  {
   "cell_type": "code",
   "execution_count": null,
   "metadata": {},
   "outputs": [],
   "source": []
  }
 ],
 "metadata": {
  "kernelspec": {
   "display_name": "base",
   "language": "python",
   "name": "python3"
  },
  "language_info": {
   "codemirror_mode": {
    "name": "ipython",
    "version": 3
   },
   "file_extension": ".py",
   "mimetype": "text/x-python",
   "name": "python",
   "nbconvert_exporter": "python",
   "pygments_lexer": "ipython3",
   "version": "3.9.13"
  },
  "vscode": {
   "interpreter": {
    "hash": "8e310bae35a138f206f4dbe6db217ccd072733eb5931a39d6400da324649d473"
   }
  }
 },
 "nbformat": 4,
 "nbformat_minor": 4
}
